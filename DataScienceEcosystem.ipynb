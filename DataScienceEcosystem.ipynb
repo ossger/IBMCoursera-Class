{
 "cells": [
  {
   "cell_type": "markdown",
   "id": "0773d03e",
   "metadata": {},
   "source": [
    "# Data Sciecne Tools and Ecosystem"
   ]
  },
  {
   "cell_type": "markdown",
   "id": "ea09c2da-0504-4ae4-a80b-4144bef5a4ba",
   "metadata": {},
   "source": [
    "In this notebook, Data Science Tools and Ecosystem are summarized."
   ]
  },
  {
   "cell_type": "markdown",
   "id": "dddf6179-bb09-4adc-aa64-24e404153347",
   "metadata": {},
   "source": [
    "Some of the popular languages that Data Scientists use are:\n",
    "1. Python\n",
    "2. R\n",
    "3. Julia\n",
    "4. Java\n",
    "5. Ruby"
   ]
  },
  {
   "cell_type": "markdown",
   "id": "747c87dc-ec17-4b4e-b633-3f07d03dae5f",
   "metadata": {},
   "source": [
    "Some of libraries commonly used by Data Scientists include:\n",
    "1. ggplot (R)\n",
    "2. plotly (R)\n",
    "3. SciPy (python)\n",
    "4. matplotlib (python)"
   ]
  },
  {
   "cell_type": "markdown",
   "id": "c4308578-b7e5-41b1-93a9-9fd425215e5f",
   "metadata": {},
   "source": [
    "|#|Data Science Tools|\n",
    "|-|--------|\n",
    "|1|Anaconda|\n",
    "|2|RStudio|\n",
    "|3|JupyterNotebook|"
   ]
  },
  {
   "cell_type": "markdown",
   "id": "8174e48f-d391-4482-946b-146ca394c0a1",
   "metadata": {},
   "source": [
    "### Below are a few examples of evaluating arithmetic expressions in Python\n"
   ]
  },
  {
   "cell_type": "code",
   "execution_count": 5,
   "id": "2bf7c6c0-5d62-40cd-b72f-cb205a603a2a",
   "metadata": {},
   "outputs": [
    {
     "data": {
      "text/plain": [
       "17"
      ]
     },
     "execution_count": 5,
     "metadata": {},
     "output_type": "execute_result"
    }
   ],
   "source": [
    "# an example of arithmetic using multiplication and addition:\n",
    "\n",
    "(3*4)+5"
   ]
  },
  {
   "cell_type": "markdown",
   "id": "d41ef3fe-df36-40b4-a317-472368559f63",
   "metadata": {
    "tags": []
   },
   "source": [
    "### and here we use code to convert minutes to hours"
   ]
  },
  {
   "cell_type": "code",
   "execution_count": 11,
   "id": "a6b7de8c-1863-46c8-af93-d4da163da0b7",
   "metadata": {},
   "outputs": [
    {
     "name": "stdout",
     "output_type": "stream",
     "text": [
      "200 minutes in hours is equal to 3.3333333333333335 hours, or 3 hours and 20 mimutes\n"
     ]
    }
   ],
   "source": [
    "#This will convert 200 minutes to hours\n",
    "x = 200/60\n",
    "print(\"200 minutes in hours is equal to\", x, \"hours, or 3 hours and 20 mimutes\")"
   ]
  },
  {
   "cell_type": "markdown",
   "id": "18038be5-ab3b-44fd-8107-f53259d7ef21",
   "metadata": {},
   "source": [
    "**Objectives:**\n",
    "\n",
    "- Explain the function of Git\n",
    "- List a package that allows for data analysis using Python\n",
    "- How many licks does it take to get to the center of a tootsie pop?"
   ]
  },
  {
   "cell_type": "markdown",
   "id": "f781199e-1c47-441b-9d7b-017a2b8fa9f0",
   "metadata": {},
   "source": [
    "## Author:\n",
    "Ross Goeringer"
   ]
  },
  {
   "cell_type": "code",
   "execution_count": null,
   "id": "5ca1e8bf-51da-4eed-b701-a336d184655b",
   "metadata": {},
   "outputs": [],
   "source": []
  }
 ],
 "metadata": {
  "kernelspec": {
   "display_name": "Python 3 (ipykernel)",
   "language": "python",
   "name": "python3"
  },
  "language_info": {
   "codemirror_mode": {
    "name": "ipython",
    "version": 3
   },
   "file_extension": ".py",
   "mimetype": "text/x-python",
   "name": "python",
   "nbconvert_exporter": "python",
   "pygments_lexer": "ipython3",
   "version": "3.10.9"
  }
 },
 "nbformat": 4,
 "nbformat_minor": 5
}
